{
 "cells": [
  {
   "cell_type": "code",
   "id": "initial_id",
   "metadata": {
    "collapsed": true,
    "ExecuteTime": {
     "end_time": "2025-07-18T16:03:21.488944Z",
     "start_time": "2025-07-18T16:03:13.673998Z"
    }
   },
   "source": [
    "# 1. Setup: Load Libraries\n",
    "# This cell installs and imports all the necessary Python libraries for the analysis,\n",
    "# visualization, and interactive controls.\n",
    "# You only need to run this cell once per session.\n",
    "\n",
    "# --- Install required packages ---\n",
    "!pip install -q pandas numpy scipy matplotlib seaborn ipywidgets\n",
    "\n",
    "# --- Import Libraries ---\n",
    "import pandas as pd\n",
    "import numpy as np\n",
    "from scipy import stats\n",
    "import matplotlib.pyplot as plt\n",
    "import seaborn as sns\n",
    "from matplotlib.ticker import PercentFormatter, FuncFormatter\n",
    "import os\n",
    "\n",
    "# --- New libraries for interactive widgets and file handling ---\n",
    "import ipywidgets as widgets\n",
    "from IPython.display import display, clear_output\n",
    "import io\n",
    "\n",
    "print(\"✅ Libraries loaded successfully. You can now proceed to the Control Panel.\")\n"
   ],
   "outputs": [
    {
     "name": "stdout",
     "output_type": "stream",
     "text": [
      "✅ Libraries loaded successfully. You can now proceed to the Control Panel.\n"
     ]
    }
   ],
   "execution_count": 2
  },
  {
   "metadata": {
    "ExecuteTime": {
     "end_time": "2025-07-18T16:05:46.785727Z",
     "start_time": "2025-07-18T16:05:46.759190Z"
    }
   },
   "cell_type": "code",
   "source": [
    "# ## 2. Control Panel ⚙️\n",
    "# This is the only section you need to edit. Use the controls below to\n",
    "# configure your test. Once you're done, run the cells that follow.\n",
    "\n",
    "# --- Create Interactive Widgets ---\n",
    "\n",
    "# File Uploader Widget: Allows users to upload their data file directly.\n",
    "# This is more user-friendly than manually editing a file path in the code.\n",
    "uploader = widgets.FileUpload(\n",
    "    accept='.xlsx',\n",
    "    description='Upload Data',\n",
    "    button_style='info',\n",
    "    tooltip='Upload your A/B test data in .xlsx format'\n",
    ")\n",
    "\n",
    "# Risk Threshold Slider Widget: Provides an intuitive way to set risk.\n",
    "# The slider is framed in plain English, which is easier to understand\n",
    "# than an abstract number like 0.01.\n",
    "risk_slider = widgets.FloatSlider(\n",
    "    value=0.01,\n",
    "    min=0.005,\n",
    "    max=0.05,\n",
    "    step=0.005,\n",
    "    description='Risk Tolerance:',\n",
    "    style={'description_width': 'initial'},\n",
    "    readout_format='.2%',\n",
    "    tooltip='Lower = more cautious. Higher = more aggressive.'\n",
    ")\n",
    "\n",
    "# Display the widgets\n",
    "# This will render the interactive controls in the notebook output.\n",
    "print(\"Please configure your test using the controls below:\")\n",
    "display(uploader, risk_slider)\n"
   ],
   "id": "bbf74b4722cea196",
   "outputs": [
    {
     "name": "stdout",
     "output_type": "stream",
     "text": [
      "Please configure your test using the controls below:\n"
     ]
    },
    {
     "data": {
      "text/plain": [
       "FileUpload(value=(), accept='.xlsx', button_style='info', description='Upload Data', tooltip='Upload your A/B …"
      ],
      "application/vnd.jupyter.widget-view+json": {
       "version_major": 2,
       "version_minor": 0,
       "model_id": "535e010bafeb4792bf9e6a1a75f2e32c"
      }
     },
     "metadata": {},
     "output_type": "display_data"
    },
    {
     "data": {
      "text/plain": [
       "FloatSlider(value=0.01, description='Risk Tolerance:', max=0.05, min=0.005, readout_format='.2%', step=0.005, …"
      ],
      "application/vnd.jupyter.widget-view+json": {
       "version_major": 2,
       "version_minor": 0,
       "model_id": "6906122fefad4f8b9bb530f9e52ea522"
      }
     },
     "metadata": {},
     "output_type": "display_data"
    }
   ],
   "execution_count": 3
  },
  {
   "metadata": {
    "ExecuteTime": {
     "end_time": "2025-07-18T16:06:22.445072Z",
     "start_time": "2025-07-18T16:06:22.431132Z"
    }
   },
   "cell_type": "code",
   "source": [
    "# ## 3. Data Processing & Analysis 🔬\n",
    "# This section contains the core logic for the analysis. You don't need to\n",
    "# change anything here. Just click the \"Run Analysis\" button below.\n",
    "# It will automatically use the inputs from the Control Panel above.\n",
    "\n",
    "# --- Main Analysis Function ---\n",
    "# This function consolidates all the complex calculations from the original\n",
    "# notebook into a single, reusable block of code.\n",
    "def run_full_analysis(df, prior_alpha, prior_beta, risk_threshold):\n",
    "    \"\"\"\n",
    "    Performs a full Bayesian A/B test analysis and returns the results DataFrame.\n",
    "    \"\"\"\n",
    "    # Configuration for the Bayesian Analysis\n",
    "    N_SAMPLES = 200_000\n",
    "\n",
    "    # 1. --- Check for Low Sample Size (Robustness Check) ---\n",
    "    low_sample_threshold = 100\n",
    "    if (df['reach'] < low_sample_threshold).any():\n",
    "        print(f\"⚠️ Warning: Low Sample Size Detected. Results may not be stable.\")\n",
    "\n",
    "    # 2. --- Calculate Posterior Parameters ---\n",
    "    df['posterior_alpha'] = prior_alpha + df['conversion']\n",
    "    df['posterior_beta'] = prior_beta + (df['reach'] - df['conversion'])\n",
    "    df['posterior_mean'] = df['posterior_alpha'] / (df['posterior_alpha'] + df['posterior_beta'])\n",
    "\n",
    "    # 3. --- Run Monte Carlo Simulation ---\n",
    "    samples = {\n",
    "        name: np.random.beta(row['posterior_alpha'], row['posterior_beta'], size=N_SAMPLES)\n",
    "        for name, row in df.set_index('variant').iterrows()\n",
    "    }\n",
    "    samples_df = pd.DataFrame(samples)\n",
    "\n",
    "    # 4. --- Calculate \"Probability to be Best\" ---\n",
    "    best_variant_counts = samples_df.idxmax(axis=1).value_counts(normalize=True)\n",
    "    df['prob_to_be_best'] = df['variant'].map(best_variant_counts).fillna(0)\n",
    "\n",
    "    # 5. --- Calculate \"Expected Loss\" (Risk) ---\n",
    "    max_conversion_rates = samples_df.max(axis=1)\n",
    "    loss_df = samples_df.apply(lambda x: max_conversion_rates - x)\n",
    "    expected_loss = loss_df.mean()\n",
    "    df['expected_loss'] = df['variant'].map(expected_loss)\n",
    "\n",
    "    return df.sort_values(by='expected_loss', ascending=True).reset_index(drop=True)\n",
    "\n",
    "# --- Create a button to trigger the analysis ---\n",
    "# This makes the user experience interactive and clear.\n",
    "run_button = widgets.Button(description=\"Run Analysis\", button_style='success')\n",
    "output_area = widgets.Output()\n",
    "\n",
    "def on_run_button_clicked(b):\n",
    "    # This function runs when the button is clicked.\n",
    "    with output_area:\n",
    "        clear_output(wait=True) # Clears previous results\n",
    "\n",
    "        # Validate that a file has been uploaded\n",
    "        if not uploader.value:\n",
    "            print(\"❌ Error: Please upload a data file in the Control Panel first.\")\n",
    "            return\n",
    "\n",
    "        # Get data from the uploader widget\n",
    "        uploaded_file_info = list(uploader.value.values())[0]\n",
    "        content = uploaded_file_info['content']\n",
    "        df = pd.read_excel(io.BytesIO(content))\n",
    "\n",
    "        # Get risk tolerance from the slider widget\n",
    "        RISK_THRESHOLD = risk_slider.value\n",
    "\n",
    "        print(\"Running analysis with the following parameters:\")\n",
    "        print(f\" - Risk Tolerance: {RISK_THRESHOLD:.2%}\")\n",
    "        print(\"---\")\n",
    "\n",
    "        # Run the full analysis using the function defined above\n",
    "        global results_df # Store results globally to be used by the report cell\n",
    "        results_df = run_full_analysis(df, 0.5, 0.5, RISK_THRESHOLD)\n",
    "\n",
    "        print(\"✅ Analysis Complete. View the report in the next section.\")\n",
    "        # Display a preview of the results table\n",
    "        display(results_df[['variant', 'prob_to_be_best', 'expected_loss']].style.format({\n",
    "            \"prob_to_be_best\": \"{:.2%}\",\n",
    "            \"expected_loss\": \"{:.4%}\"\n",
    "        }).set_caption(\"Results Summary\").hide(axis=\"index\"))\n",
    "\n",
    "# Link the function to the button click event\n",
    "run_button.on_click(on_run_button_clicked)\n",
    "\n",
    "# Display the button and the area for its output\n",
    "display(run_button, output_area)\n"
   ],
   "id": "64487671fe023732",
   "outputs": [
    {
     "data": {
      "text/plain": [
       "Button(button_style='success', description='Run Analysis', style=ButtonStyle())"
      ],
      "application/vnd.jupyter.widget-view+json": {
       "version_major": 2,
       "version_minor": 0,
       "model_id": "77f84d908db34fe1b9e4b57cd6b218f9"
      }
     },
     "metadata": {},
     "output_type": "display_data"
    },
    {
     "data": {
      "text/plain": [
       "Output()"
      ],
      "application/vnd.jupyter.widget-view+json": {
       "version_major": 2,
       "version_minor": 0,
       "model_id": "c0d834fd86414a13a39e3b33248aab3f"
      }
     },
     "metadata": {},
     "output_type": "display_data"
    }
   ],
   "execution_count": 4
  },
  {
   "metadata": {
    "ExecuteTime": {
     "end_time": "2025-07-18T16:07:13.931377Z",
     "start_time": "2025-07-18T16:07:13.917336Z"
    }
   },
   "cell_type": "code",
   "source": [
    "# ## 4. Automated Report 📄\n",
    "# Below is the final report. It includes a clear verdict and a visual summary\n",
    "# that you can save as a PNG and share with your team.\n",
    "\n",
    "# --- Visual Report Generator ---\n",
    "def create_visual_report(results_df, risk_threshold):\n",
    "    \"\"\"\n",
    "    Generates a single, shareable PNG image summarizing the A/B test results.\n",
    "    \"\"\"\n",
    "    # --- 1. Extract Data and Determine Verdict ---\n",
    "    best_candidate = results_df.iloc[0]\n",
    "    runner_up = results_df.iloc[1] if len(results_df) > 1 else None\n",
    "\n",
    "    is_winner = best_candidate['expected_loss'] < risk_threshold\n",
    "    verdict_text = f\"DEPLOY VARIANT '{best_candidate['variant']}'\" if is_winner else \"TEST IS INCONCLUSIVE\"\n",
    "    verdict_color = '#2E7D32' if is_winner else '#C62828'\n",
    "\n",
    "    # --- 2. Create the Figure Layout ---\n",
    "    # We use a grid layout to arrange the different report elements.\n",
    "    fig = plt.figure(figsize=(11, 8), constrained_layout=True)\n",
    "    gs = fig.add_gridspec(3, 2)\n",
    "    fig.suptitle(\"A/B Test Final Report\", fontsize=22, fontweight='bold')\n",
    "\n",
    "    # --- 3. Add Report Components to the Grid ---\n",
    "\n",
    "    # a) Main Verdict (Top Banner)\n",
    "    ax_verdict = fig.add_subplot(gs[0, :])\n",
    "    ax_verdict.text(0.5, 0.5, verdict_text, ha='center', va='center', fontsize=30, fontweight='bold', color=verdict_color,\n",
    "                    bbox=dict(facecolor='white', edgecolor=verdict_color, boxstyle='round,pad=0.3', lw=2))\n",
    "    ax_verdict.axis('off')\n",
    "\n",
    "    # b) Key Metrics (Middle Left)\n",
    "    ax_metrics = fig.add_subplot(gs[1, 0])\n",
    "    ax_metrics.axis('off')\n",
    "    ax_metrics.set_title(\"Key Metrics\", fontsize=16, fontweight='bold', loc='left')\n",
    "\n",
    "    prob_best_str = f\"{best_candidate['prob_to_be_best']:.1%}\"\n",
    "    risk_str = f\"{best_candidate['expected_loss']:.3%}\"\n",
    "    metrics_text = f\"Winner: \\t\\t{best_candidate['variant']}\\n\\n\" \\\n",
    "                   f\"Prob. to be Best: \\t{prob_best_str}\\n\\n\" \\\n",
    "                   f\"Risk (Expected Loss): \\t{risk_str}\"\n",
    "\n",
    "    if is_winner and runner_up is not None:\n",
    "        uplift = (best_candidate['posterior_mean'] - runner_up['posterior_mean']) / runner_up['posterior_mean']\n",
    "        metrics_text += f\"\\n\\nExpected Uplift: \\t+{uplift:.1%}\"\n",
    "\n",
    "    ax_metrics.text(0.0, 0.4, metrics_text, ha='left', va='center', fontsize=12, family='monospace')\n",
    "\n",
    "    # c) Posterior Plot (Right Side)\n",
    "    ax_plot = fig.add_subplot(gs[1:, 1])\n",
    "    sorted_plot_df = results_df.sort_values('posterior_mean', ascending=False)\n",
    "    colors = plt.cm.viridis(np.linspace(0.1, 0.9, len(sorted_plot_df)))\n",
    "    max_x = stats.beta.ppf(0.999, sorted_plot_df['posterior_alpha'].max(), sorted_plot_df['posterior_beta'].min()) * 1.2\n",
    "    x = np.linspace(0, max_x, 500)\n",
    "\n",
    "    for i, (row, color) in enumerate(zip(sorted_plot_df.itertuples(), colors)):\n",
    "        pdf = stats.beta.pdf(x, row.posterior_alpha, row.posterior_beta)\n",
    "        ax_plot.plot(x, pdf, color=color, lw=2, label=row.variant)\n",
    "        ax_plot.fill_between(x, 0, pdf, alpha=0.2, color=color)\n",
    "\n",
    "    ax_plot.set_title(\"Conversion Rate Distributions\", fontsize=14)\n",
    "    ax_plot.legend()\n",
    "    ax_plot.spines[['top', 'right']].set_visible(False)\n",
    "    ax_plot.yaxis.set_ticks([])\n",
    "\n",
    "    # d) Stakeholder Summary (Bottom Left)\n",
    "    ax_summary = fig.add_subplot(gs[2, 0])\n",
    "    ax_summary.axis('off')\n",
    "    ax_summary.set_title(\"Summary for Stakeholders\", fontsize=16, fontweight='bold', loc='left')\n",
    "\n",
    "    if is_winner:\n",
    "        summary_text = f\"The analysis confidently recommends deploying Variant '{best_candidate['variant']}'.\\n\\nIt has the highest chance of being the best option, and the risk of choosing it is well below our safety limit.\"\n",
    "    else:\n",
    "        summary_text = f\"The results are not yet clear enough to make a confident decision.\\n\\nOur best option still has a risk level higher than our limit. We recommend collecting more data to get a clearer winner.\"\n",
    "\n",
    "    ax_summary.text(0.0, 0.4, summary_text, ha='left', va='center', fontsize=11, wrap=True)\n",
    "\n",
    "    return fig\n",
    "\n",
    "# --- Display the Report and Save Button ---\n",
    "# This logic runs after the analysis is complete.\n",
    "report_output_area = widgets.Output()\n",
    "with report_output_area:\n",
    "    if 'results_df' in locals():\n",
    "        # Generate the visual report\n",
    "        report_fig = create_visual_report(results_df, risk_slider.value)\n",
    "\n",
    "        # Create and display the save button\n",
    "        save_button = widgets.Button(description=\"Save Report as PNG\", button_style='primary')\n",
    "        save_output = widgets.Output()\n",
    "\n",
    "        def on_save_clicked(b):\n",
    "            with save_output:\n",
    "                clear_output(wait=True)\n",
    "                report_fig.savefig(\"ab_test_report.png\", dpi=150, bbox_inches='tight')\n",
    "                print(\"✅ Report saved as 'ab_test_report.png'\")\n",
    "\n",
    "        save_button.on_click(on_save_clicked)\n",
    "        display(save_button, save_output)\n",
    "\n",
    "        # Display the plot in the notebook\n",
    "        plt.show(report_fig)\n",
    "    else:\n",
    "        print(\"Please run the analysis cell first to generate a report.\")\n",
    "\n",
    "display(report_output_area)\n"
   ],
   "id": "a49dc5eba78d5464",
   "outputs": [
    {
     "data": {
      "text/plain": [
       "Output()"
      ],
      "application/vnd.jupyter.widget-view+json": {
       "version_major": 2,
       "version_minor": 0,
       "model_id": "2bf039643c63432e9a1ae5102efe497b"
      }
     },
     "metadata": {},
     "output_type": "display_data"
    }
   ],
   "execution_count": 5
  }
 ],
 "metadata": {
  "kernelspec": {
   "display_name": "Python 3",
   "language": "python",
   "name": "python3"
  },
  "language_info": {
   "codemirror_mode": {
    "name": "ipython",
    "version": 2
   },
   "file_extension": ".py",
   "mimetype": "text/x-python",
   "name": "python",
   "nbconvert_exporter": "python",
   "pygments_lexer": "ipython2",
   "version": "2.7.6"
  }
 },
 "nbformat": 4,
 "nbformat_minor": 5
}
