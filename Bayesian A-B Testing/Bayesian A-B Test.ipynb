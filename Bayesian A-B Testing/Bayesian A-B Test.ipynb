{
 "cells": [
  {
   "metadata": {},
   "cell_type": "markdown",
   "source": [
    "# A/B Test Analysis with Bayesian Statistics\n",
    "This notebook performs an end-to-end analysis of A/B test results using Bayesian statistical methods. The objective is to go beyond the traditional \"p-value\" to calculate the probability of each variant being the best and to quantify the expected risk associated with choosing one variant over another."
   ],
   "id": "abf4300b80bcbe16"
  },
  {
   "metadata": {},
   "cell_type": "markdown",
   "source": [
    "## 1. Setup\n",
    "The next two cells begins by setting up the environment. First, it imports the essential Python libraries: pandas for data manipulation, numpy for numerical operations, scipy.stats for statistical functions, and matplotlib/seaborn for visualization.\n",
    "\n",
    "Next, it defines the core parameters for the analysis:\n",
    "\n",
    "- FILE_NAME: The name of the input data file.\n",
    "\n",
    "- PRIOR_ALPHA & PRIOR_BETA: The initial parameters for our Bayesian model, set to 1.0 to represent an uninformative prior.\n",
    "\n",
    "- RISK_THRESHOLD: The pre-defined risk tolerance that will be used to make the final decision.\n",
    "\n",
    "The main objective is to use this setup to go beyond the traditional \"p-value\" to calculate the probability of each variant being the best and to quantify the expected risk associated with choosing one variant over another."
   ],
   "id": "93851f08a4e7811b"
  },
  {
   "metadata": {
    "ExecuteTime": {
     "end_time": "2025-07-18T12:19:50.274319Z",
     "start_time": "2025-07-18T12:19:50.271100Z"
    }
   },
   "cell_type": "code",
   "source": [
    "import pandas as pd\n",
    "import numpy as np\n",
    "from scipy import stats\n",
    "import matplotlib.pyplot as plt\n",
    "import seaborn as sns"
   ],
   "id": "a427fe66ce8fc60d",
   "outputs": [],
   "execution_count": 13
  },
  {
   "metadata": {
    "ExecuteTime": {
     "end_time": "2025-07-18T12:19:50.299116Z",
     "start_time": "2025-07-18T12:19:50.296284Z"
    }
   },
   "cell_type": "code",
   "source": [
    "# Global Parameter Definition\n",
    "\n",
    "# This cell centralizes all the key parameters and constants that will be used\n",
    "# throughout the notebook. This makes it easy to adjust the analysis settings\n",
    "# without searching through the entire code.\n",
    "\n",
    "# --- File Configuration ---\n",
    "# The name of the Excel file containing the A/B test data.\n",
    "# The project description specifies that this file should be in the same\n",
    "# directory as the notebook.\n",
    "FILE_NAME = 'data_ab.xlsx'\n",
    "\n",
    "\n",
    "# --- Bayesian Prior Configuration ---\n",
    "# These parameters define our prior belief about the conversion rate before\n",
    "# observing any data.\n",
    "#\n",
    "# By setting alpha and beta to 1.0, we are using a Beta(1, 1) distribution,\n",
    "# which is mathematically equivalent to a Uniform(0, 1) distribution. This is a\n",
    "# common \"uninformative prior\" used when we have no strong initial assumptions\n",
    "# about what the conversion rate might be.\n",
    "PRIOR_ALPHA = 1.0\n",
    "PRIOR_BETA = 1.0\n",
    "\n",
    "\n",
    "# --- Decision Framework Configuration ---\n",
    "# This defines the risk tolerance for making a decision. The Expected Loss\n",
    "# (the risk) of choosing a variant will be compared against this threshold.\n",
    "#\n",
    "# A value of 0.01 means we will only recommend a winning variant if the\n",
    "# potential downside of making that choice is less than 1% of the conversion rate.\n",
    "# This value establishes a clear, pre-defined rule for the final recommendation.\n",
    "RISK_THRESHOLD = 0.01"
   ],
   "id": "5a1de2caa799e5b5",
   "outputs": [],
   "execution_count": 14
  },
  {
   "metadata": {},
   "cell_type": "markdown",
   "source": [
    "## 2. Data Loading and Validation\n",
    "This cell handles the critical first step of loading and validating the A/B test data. The code will read the specified Excel file, confirm its existence, and verify that it contains the necessary columns for the analysis: variant, reach, and conversion. This ensures the data is correctly structured before proceeding."
   ],
   "id": "1b54c2311f245adc"
  },
  {
   "metadata": {
    "ExecuteTime": {
     "end_time": "2025-07-18T12:19:50.329106Z",
     "start_time": "2025-07-18T12:19:50.315130Z"
    }
   },
   "cell_type": "code",
   "source": [
    "# Data Loading and Validation\n",
    "import os # The 'os' library is used here to check for file existence\n",
    "\n",
    "# --- Define Expected Data Structure ---\n",
    "# These are the column names the script expects to find in the Excel file.\n",
    "# The analysis logic depends on these specific columns being present.\n",
    "REQUIRED_COLUMNS = ['variant', 'reach', 'conversion']\n",
    "\n",
    "print(f\"Attempting to load data from '{FILE_NAME}'...\")\n",
    "\n",
    "# --- Validation and Loading Logic ---\n",
    "# First, check if the file exists in the directory.\n",
    "if not os.path.exists(FILE_NAME):\n",
    "    # If the file is not found, print a clear error and stop.\n",
    "    print(f\"---\")\n",
    "    print(f\"Error: File Not Found.\")\n",
    "    print(f\"The data file '{FILE_NAME}' was not found in the current directory.\")\n",
    "    print(f\"Please ensure the file is present before proceeding.\")\n",
    "\n",
    "else:\n",
    "    # If the file exists, try to load and validate it.\n",
    "    try:\n",
    "        # Load the Excel file into a pandas DataFrame.\n",
    "        df = pd.read_excel(FILE_NAME)\n",
    "\n",
    "        # Check if all the required columns are in the DataFrame.\n",
    "        if all(col in df.columns for col in REQUIRED_COLUMNS):\n",
    "            # If validation is successful, print a confirmation and the data's head.\n",
    "            print(\"Success: File loaded and validated.\")\n",
    "            print(\"\\n--- First 5 Rows of the Dataset ---\")\n",
    "            # Display the first 5 rows for a quick visual inspection.\n",
    "            # Using display() is ideal for Jupyter notebooks for better formatting.\n",
    "            display(df.head())\n",
    "        else:\n",
    "            # If columns are missing, identify them and report the error.\n",
    "            missing_cols = [col for col in REQUIRED_COLUMNS if col not in df.columns]\n",
    "            print(f\"---\")\n",
    "            print(f\"Error: Missing Columns.\")\n",
    "            print(f\"The file '{FILE_NAME}' was loaded, but is missing required columns.\")\n",
    "            print(f\"Missing column(s): {missing_cols}\")\n",
    "            print(f\"Please ensure the file contains all of the following columns: {REQUIRED_COLUMNS}\")\n",
    "\n",
    "    except Exception as e:\n",
    "        # Catch any other potential errors during the file reading process.\n",
    "        print(f\"---\")\n",
    "        print(f\"An unexpected error occurred while reading the file: {e}\")"
   ],
   "id": "5f1361b781a403a8",
   "outputs": [
    {
     "name": "stdout",
     "output_type": "stream",
     "text": [
      "Attempting to load data from 'data_ab.xlsx'...\n",
      "Success: File loaded and validated.\n",
      "\n",
      "--- First 5 Rows of the Dataset ---\n"
     ]
    },
    {
     "data": {
      "text/plain": [
       "  variant  reach  conversion\n",
       "0       A  10000         300\n",
       "1       B  10000         350\n",
       "2       C   9900         315\n",
       "3       D   8000         210\n",
       "4       E  10000         250"
      ],
      "text/html": [
       "<div>\n",
       "<style scoped>\n",
       "    .dataframe tbody tr th:only-of-type {\n",
       "        vertical-align: middle;\n",
       "    }\n",
       "\n",
       "    .dataframe tbody tr th {\n",
       "        vertical-align: top;\n",
       "    }\n",
       "\n",
       "    .dataframe thead th {\n",
       "        text-align: right;\n",
       "    }\n",
       "</style>\n",
       "<table border=\"1\" class=\"dataframe\">\n",
       "  <thead>\n",
       "    <tr style=\"text-align: right;\">\n",
       "      <th></th>\n",
       "      <th>variant</th>\n",
       "      <th>reach</th>\n",
       "      <th>conversion</th>\n",
       "    </tr>\n",
       "  </thead>\n",
       "  <tbody>\n",
       "    <tr>\n",
       "      <th>0</th>\n",
       "      <td>A</td>\n",
       "      <td>10000</td>\n",
       "      <td>300</td>\n",
       "    </tr>\n",
       "    <tr>\n",
       "      <th>1</th>\n",
       "      <td>B</td>\n",
       "      <td>10000</td>\n",
       "      <td>350</td>\n",
       "    </tr>\n",
       "    <tr>\n",
       "      <th>2</th>\n",
       "      <td>C</td>\n",
       "      <td>9900</td>\n",
       "      <td>315</td>\n",
       "    </tr>\n",
       "    <tr>\n",
       "      <th>3</th>\n",
       "      <td>D</td>\n",
       "      <td>8000</td>\n",
       "      <td>210</td>\n",
       "    </tr>\n",
       "    <tr>\n",
       "      <th>4</th>\n",
       "      <td>E</td>\n",
       "      <td>10000</td>\n",
       "      <td>250</td>\n",
       "    </tr>\n",
       "  </tbody>\n",
       "</table>\n",
       "</div>"
      ]
     },
     "metadata": {},
     "output_type": "display_data"
    }
   ],
   "execution_count": 15
  },
  {
   "metadata": {},
   "cell_type": "markdown",
   "source": [
    "## 3. Calculation of Posterior Parameters\n",
    "Here, we perform the core Bayesian update for our A/B test. 🧪\n",
    "\n",
    "This cell calculates the **posterior parameters** (`alpha` and `beta`) for each variant by combining our initial **prior beliefs** with the observed data. The formulas are straightforward:\n",
    "\n",
    "-   `posterior_alpha = prior_alpha + conversion`\n",
    "-   `posterior_beta = prior_beta + (reach - conversion)`\n",
    "\n",
    "These new parameters define the posterior Beta distribution for each variant, representing our updated understanding of the true conversion rate after seeing the data."
   ],
   "id": "abd7b472985bcbb7"
  },
  {
   "metadata": {
    "ExecuteTime": {
     "end_time": "2025-07-18T12:19:50.348245Z",
     "start_time": "2025-07-18T12:19:50.343819Z"
    }
   },
   "cell_type": "code",
   "source": [
    "# This cell applies the core Bayesian update rule for the Beta-Binomial model.\n",
    "# The 'posterior' distribution represents our updated belief about the conversion\n",
    "# rate after incorporating the evidence from the collected data.\n",
    "\n",
    "# For a Beta-Binomial model, the posterior parameters are calculated as follows:\n",
    "# posterior_alpha = prior_alpha + number_of_successes (conversions)\n",
    "# posterior_beta = prior_beta + number_of_failures (visitors - conversions)\n",
    "\n",
    "# Check if the dataframe 'df' exists to prevent errors if previous cells failed.\n",
    "if 'df' in locals():\n",
    "    # Calculate the posterior alpha parameter for each variant.\n",
    "    df['posterior_alpha'] = PRIOR_ALPHA + df['conversion']\n",
    "\n",
    "    # Calculate the posterior beta parameter for each variant.\n",
    "    df['posterior_beta'] = PRIOR_BETA + (df['reach'] - df['conversion'])\n",
    "\n",
    "\n",
    "    # --- Display the Updated DataFrame ---\n",
    "    # Show the DataFrame with the newly calculated posterior parameters.\n",
    "    # These parameters fully define the probability distributions for the\n",
    "    # conversion rate of each variant.\n",
    "\n",
    "    print(\"--- DataFrame with Posterior Parameters ---\")\n",
    "    display(df)\n",
    "\n",
    "else:\n",
    "    print(\"Error: The DataFrame 'df' does not exist.\")\n",
    "    print(\"Please ensure the data loading and validation cell (Cell 5) was executed successfully.\")"
   ],
   "id": "34600db8b6eeee06",
   "outputs": [
    {
     "name": "stdout",
     "output_type": "stream",
     "text": [
      "--- DataFrame with Posterior Parameters ---\n"
     ]
    },
    {
     "data": {
      "text/plain": [
       "  variant  reach  conversion  posterior_alpha  posterior_beta\n",
       "0       A  10000         300            301.0          9701.0\n",
       "1       B  10000         350            351.0          9651.0\n",
       "2       C   9900         315            316.0          9586.0\n",
       "3       D   8000         210            211.0          7791.0\n",
       "4       E  10000         250            251.0          9751.0"
      ],
      "text/html": [
       "<div>\n",
       "<style scoped>\n",
       "    .dataframe tbody tr th:only-of-type {\n",
       "        vertical-align: middle;\n",
       "    }\n",
       "\n",
       "    .dataframe tbody tr th {\n",
       "        vertical-align: top;\n",
       "    }\n",
       "\n",
       "    .dataframe thead th {\n",
       "        text-align: right;\n",
       "    }\n",
       "</style>\n",
       "<table border=\"1\" class=\"dataframe\">\n",
       "  <thead>\n",
       "    <tr style=\"text-align: right;\">\n",
       "      <th></th>\n",
       "      <th>variant</th>\n",
       "      <th>reach</th>\n",
       "      <th>conversion</th>\n",
       "      <th>posterior_alpha</th>\n",
       "      <th>posterior_beta</th>\n",
       "    </tr>\n",
       "  </thead>\n",
       "  <tbody>\n",
       "    <tr>\n",
       "      <th>0</th>\n",
       "      <td>A</td>\n",
       "      <td>10000</td>\n",
       "      <td>300</td>\n",
       "      <td>301.0</td>\n",
       "      <td>9701.0</td>\n",
       "    </tr>\n",
       "    <tr>\n",
       "      <th>1</th>\n",
       "      <td>B</td>\n",
       "      <td>10000</td>\n",
       "      <td>350</td>\n",
       "      <td>351.0</td>\n",
       "      <td>9651.0</td>\n",
       "    </tr>\n",
       "    <tr>\n",
       "      <th>2</th>\n",
       "      <td>C</td>\n",
       "      <td>9900</td>\n",
       "      <td>315</td>\n",
       "      <td>316.0</td>\n",
       "      <td>9586.0</td>\n",
       "    </tr>\n",
       "    <tr>\n",
       "      <th>3</th>\n",
       "      <td>D</td>\n",
       "      <td>8000</td>\n",
       "      <td>210</td>\n",
       "      <td>211.0</td>\n",
       "      <td>7791.0</td>\n",
       "    </tr>\n",
       "    <tr>\n",
       "      <th>4</th>\n",
       "      <td>E</td>\n",
       "      <td>10000</td>\n",
       "      <td>250</td>\n",
       "      <td>251.0</td>\n",
       "      <td>9751.0</td>\n",
       "    </tr>\n",
       "  </tbody>\n",
       "</table>\n",
       "</div>"
      ]
     },
     "metadata": {},
     "output_type": "display_data"
    }
   ],
   "execution_count": 16
  },
  {
   "metadata": {},
   "cell_type": "markdown",
   "source": [
    "## 4. Generation of the Posterior Plot\n",
    "\n",
    "This cell generates the most important visualization for our analysis: the posterior probability distributions. 📊\n",
    "\n",
    "The code plots a curve for each variant, representing our final belief about its true conversion rate. This allows for a direct visual comparison. Pay attention to two key aspects of the curves:\n",
    "\n",
    "-   **Position**: A curve shifted to the right indicates a higher probable conversion rate.\n",
    "-   **Shape**: A taller, narrower curve signifies greater certainty about the conversion rate's value."
   ],
   "id": "339d27af55852f67"
  },
  {
   "metadata": {
    "ExecuteTime": {
     "end_time": "2025-07-18T12:19:50.519796Z",
     "start_time": "2025-07-18T12:19:50.407561Z"
    }
   },
   "cell_type": "code",
   "source": [
    "# Generation of the Posterior Plot\n",
    "\n",
    "# This cell visualizes the posterior distributions for each variant.\n",
    "# Each curve represents the range of probable values for the true conversion\n",
    "# rate of a variant, given the data. Taller, narrower curves indicate more\n",
    "# certainty about the conversion rate.\n",
    "\n",
    "# Check if the dataframe 'df' with posterior columns exists to prevent errors.\n",
    "if 'df' in locals() and 'posterior_alpha' in df.columns:\n",
    "\n",
    "    # --- 1. Setup for Plotting ---\n",
    "    # Create a figure to hold the plot.\n",
    "    plt.figure(figsize=(12, 7))\n",
    "\n",
    "    # To make the plot robust, we dynamically determine a suitable range for the x-axis.\n",
    "    # We'll find the 99.9th percentile of each distribution and set the limit\n",
    "    # just beyond the maximum of these to ensure all curves are fully visible.\n",
    "    max_x = 0\n",
    "    for i, row in df.iterrows():\n",
    "        # Calculate the value at which 99.9% of the distribution is covered\n",
    "        percentile_999 = stats.beta.ppf(0.999, row['posterior_alpha'], row['posterior_beta'])\n",
    "        if percentile_999 > max_x:\n",
    "            max_x = percentile_999\n",
    "\n",
    "    # Create a smooth range of x-values (conversion rates) for plotting the curves.\n",
    "    # We add 10% padding to the max value for better visualization.\n",
    "    x = np.linspace(0, max_x * 1.1, 1000)\n",
    "\n",
    "    # --- 2. Plot Each Variant's Posterior Distribution ---\n",
    "    # Iterate over each variant (row) in the DataFrame.\n",
    "    for i, row in df.iterrows():\n",
    "        # Get the parameters and name for the current variant.\n",
    "        variant_name = row['variant']\n",
    "        p_alpha = row['posterior_alpha']\n",
    "        p_beta = row['posterior_beta']\n",
    "\n",
    "        # Calculate the Probability Density Function (PDF) for the Beta distribution.\n",
    "        pdf = stats.beta.pdf(x, p_alpha, p_beta)\n",
    "\n",
    "        # Plot the PDF curve with a label for the legend.\n",
    "        plt.plot(x, pdf, label=f'Variant {variant_name}')\n",
    "\n",
    "\n",
    "    # --- 3. Finalize and Display the Plot ---\n",
    "    # Add a clear title and labels as specified in the project description.\n",
    "    plt.title('Posterior Probability Distributions of Conversion Rates', fontsize=16)\n",
    "    plt.xlabel('Conversion Rate', fontsize=12)\n",
    "    plt.ylabel('Probability Density', fontsize=12)\n",
    "\n",
    "    # Display the legend to identify which curve corresponds to which variant.\n",
    "    plt.legend()\n",
    "\n",
    "    # Improve layout\n",
    "    plt.tight_layout()\n",
    "\n",
    "    # Render the plot.\n",
    "    plt.show()\n",
    "\n",
    "else:\n",
    "    print(\"Error: DataFrame 'df' with posterior parameters not found.\")\n",
    "    print(\"Please ensure the data loading (Cell 5) and posterior calculation (Cell 7) were executed successfully.\")"
   ],
   "id": "daafde3df8f8301",
   "outputs": [
    {
     "data": {
      "text/plain": [
       "<Figure size 1200x700 with 1 Axes>"
      ],
      "image/png": "[encoded data removed]"
     },
     "metadata": {},
     "output_type": "display_data"
    }
   ],
   "execution_count": 17
  },
  {
   "metadata": {},
   "cell_type": "markdown",
   "source": [
    "## 5. # Monte Carlo Simulation\n",
    "While the plot provided a visual comparison, we need to quantify the results to make a decision. To do this, we'll run a **Monte Carlo simulation**. 🎰\n",
    "\n",
    "The code below draws a large number (`100,000`) of random samples from each variant's posterior Beta distribution. Each sample can be thought of as a plausible \"true conversion rate\" for that variant, according to our model.\n",
    "\n",
    "By creating these large sets of simulated outcomes, we can directly compare them to calculate precise metrics in the following steps, such as the probability of one variant being superior to another."
   ],
   "id": "236e80b258b92449"
  },
  {
   "metadata": {
    "ExecuteTime": {
     "end_time": "2025-07-18T12:19:50.555403Z",
     "start_time": "2025-07-18T12:19:50.531148Z"
    }
   },
   "cell_type": "code",
   "source": [
    "# Monte Carlo Simulation\n",
    "\n",
    "# This cell performs a Monte Carlo simulation to draw random samples from the\n",
    "# posterior distribution of each variant. These samples will allow us to\n",
    "# empirically compare the variants and calculate key metrics, such as the\n",
    "# probability of one being better than the other and the expected loss.\n",
    "\n",
    "# --- 1. Simulation Setup ---\n",
    "# Define the number of random samples to generate for each variant's distribution.\n",
    "# A larger number of samples leads to more stable and accurate estimates of our metrics.\n",
    "N_SAMPLES = 100000\n",
    "\n",
    "# We will store the generated samples in a dictionary, with variant names as keys.\n",
    "posterior_samples = {}\n",
    "\n",
    "\n",
    "# --- 2. Run Simulation ---\n",
    "# Check if the dataframe 'df' with posterior parameters exists to avoid errors.\n",
    "if 'df' in locals() and 'posterior_alpha' in df.columns:\n",
    "\n",
    "    # Iterate over each variant (row) in the DataFrame.\n",
    "    for i, row in df.iterrows():\n",
    "        variant_name = row['variant']\n",
    "        p_alpha = row['posterior_alpha']\n",
    "        p_beta = row['posterior_beta']\n",
    "\n",
    "        # Generate N_SAMPLES from the Beta distribution defined by the variant's\n",
    "        # posterior parameters. Each sample represents a plausible \"true\"\n",
    "        # conversion rate for that variant, according to our model.\n",
    "        samples = stats.beta.rvs(a=p_alpha, b=p_beta, size=N_SAMPLES)\n",
    "\n",
    "        # Store the resulting array of samples in our dictionary.\n",
    "        posterior_samples[variant_name] = samples\n",
    "\n",
    "    # --- 3. Output: Simulation Summary ---\n",
    "    # The simulation is complete. The following is a summary of the process.\n",
    "    print(\"--- Monte Carlo Simulation Summary ---\")\n",
    "    print(f\"✅ Simulation completed successfully.\")\n",
    "    print(f\"   - Samples generated per variant: {N_SAMPLES:,}\")\n",
    "    print(f\"   - Variants simulated: {list(posterior_samples.keys())}\")\n",
    "\n",
    "    print(\"\\nData Preview (first 3 samples for each variant):\")\n",
    "    for variant, samples in posterior_samples.items():\n",
    "        preview = [round(s, 6) for s in samples[:3]]\n",
    "        print(f\"  - {variant}: {preview}\")\n",
    "\n",
    "    print(\"\\nThe 'posterior_samples' dictionary is now ready for metric calculation in the next cell.\")\n",
    "\n",
    "else:\n",
    "    # This message will only be displayed if the prerequisite DataFrame is not found.\n",
    "    print(\"Error: DataFrame 'df' with posterior parameters not found.\")\n",
    "    print(\"Please ensure the data loading (Cell 5) and posterior calculation (Cell 7) were executed successfully.\")"
   ],
   "id": "fb15b530dd5c025d",
   "outputs": [
    {
     "name": "stdout",
     "output_type": "stream",
     "text": [
      "--- Monte Carlo Simulation Summary ---\n",
      "✅ Simulation completed successfully.\n",
      "   - Samples generated per variant: 100,000\n",
      "   - Variants simulated: ['A', 'B', 'C', 'D', 'E']\n",
      "\n",
      "Data Preview (first 3 samples for each variant):\n",
      "  - A: [0.02801, 0.031594, 0.028914]\n",
      "  - B: [0.036009, 0.036185, 0.035152]\n",
      "  - C: [0.031791, 0.03006, 0.031367]\n",
      "  - D: [0.025166, 0.032681, 0.026027]\n",
      "  - E: [0.024844, 0.025342, 0.023029]\n",
      "\n",
      "The 'posterior_samples' dictionary is now ready for metric calculation in the next cell.\n"
     ]
    }
   ],
   "execution_count": 18
  },
  {
   "metadata": {},
   "cell_type": "markdown",
   "source": [
    "## 6. Calculation and Presentation of Metrics\n",
    "This is the final calculation step where we translate our simulation results into actionable business metrics. 🏆\n",
    "\n",
    "The code below uses the thousands of simulated outcomes to compute two key metrics for each variant:\n",
    "\n",
    "1.  **Probability of Being Best**: The percentage of simulations where a variant had the highest conversion rate. This answers the question: \"Which variant is most likely the winner?\"\n",
    "2.  **Expected Loss (Risk)**: The average \"regret\" or loss we would incur by choosing a variant if another one was actually better. This answers the question: \"What is the cost of being wrong?\"\n",
    "\n",
    "The results will be sorted by risk, providing a clear recommendation for which variant is the optimal choice from a risk-management perspective."
   ],
   "id": "667f4aa713eb94f4"
  },
  {
   "metadata": {
    "ExecuteTime": {
     "end_time": "2025-07-18T12:19:50.591144Z",
     "start_time": "2025-07-18T12:19:50.582415Z"
    }
   },
   "cell_type": "code",
   "source": [
    "# --- 4. Format and Display Results as a Table ---\n",
    "\n",
    "# Convert the list of results into a pandas DataFrame\n",
    "results_df = pd.DataFrame(results)\n",
    "\n",
    "# Create the 'Decision Guide' column based on the threshold\n",
    "conditions = [\n",
    "    results_df['Expected Loss (Risk)'] > RISK_THRESHOLD,\n",
    "    results_df['Expected Loss (Risk)'] < RISK_THRESHOLD\n",
    "]\n",
    "choices = ['Above Threshold', 'Below Threshold']\n",
    "results_df['Decision Guide'] = np.select(conditions, choices, default='Equals Threshold')\n",
    "\n",
    "# Sort the DataFrame by the lowest risk\n",
    "results_df = results_df.sort_values(by=\"Expected Loss (Risk)\")\n",
    "\n",
    "# --- Final Styling ---\n",
    "\n",
    "# Define styles to be applied\n",
    "table_styles = [\n",
    "    # Add 15px of space below the caption (title)\n",
    "    {'selector': 'caption', 'props': 'padding-bottom: 15px;'},\n",
    "]\n",
    "\n",
    "styled_df = results_df.style.format({\n",
    "    \"Probability to be Best\": \"{:.2%}\",\n",
    "    \"Expected Loss (Risk)\": \"{:.4%}\"\n",
    "}) \\\n",
    ".set_properties(**{'text-align': 'center'}) \\\n",
    ".set_table_styles(table_styles) \\\n",
    ".set_caption(f\"🏆 Bayesian A/B Test Results (Risk Threshold: {RISK_THRESHOLD:.1%})\") \\\n",
    ".hide(axis=\"index\")\n",
    "\n",
    "\n",
    "# Display the final, styled table\n",
    "display(styled_df)\n",
    "\n",
    "print(\"\\n(A variant with risk 'Below Threshold' is generally considered a safe choice.)\")"
   ],
   "id": "c4fd4446b762dcdb",
   "outputs": [
    {
     "data": {
      "text/plain": [
       "<pandas.io.formats.style.Styler at 0x15ed55c40>"
      ],
      "text/html": [
       "<style type=\"text/css\">\n",
       "#T_ca548 caption {\n",
       "  padding-bottom: 15px;\n",
       "}\n",
       "#T_ca548_row0_col0, #T_ca548_row0_col1, #T_ca548_row0_col2, #T_ca548_row0_col3, #T_ca548_row1_col0, #T_ca548_row1_col1, #T_ca548_row1_col2, #T_ca548_row1_col3, #T_ca548_row2_col0, #T_ca548_row2_col1, #T_ca548_row2_col2, #T_ca548_row2_col3, #T_ca548_row3_col0, #T_ca548_row3_col1, #T_ca548_row3_col2, #T_ca548_row3_col3, #T_ca548_row4_col0, #T_ca548_row4_col1, #T_ca548_row4_col2, #T_ca548_row4_col3 {\n",
       "  text-align: center;\n",
       "}\n",
       "</style>\n",
       "<table id=\"T_ca548\">\n",
       "  <caption>🏆 Bayesian A/B Test Results (Risk Threshold: 1.0%)</caption>\n",
       "  <thead>\n",
       "    <tr>\n",
       "      <th id=\"T_ca548_level0_col0\" class=\"col_heading level0 col0\" >Variant</th>\n",
       "      <th id=\"T_ca548_level0_col1\" class=\"col_heading level0 col1\" >Probability to be Best</th>\n",
       "      <th id=\"T_ca548_level0_col2\" class=\"col_heading level0 col2\" >Expected Loss (Risk)</th>\n",
       "      <th id=\"T_ca548_level0_col3\" class=\"col_heading level0 col3\" >Decision Guide</th>\n",
       "    </tr>\n",
       "  </thead>\n",
       "  <tbody>\n",
       "    <tr>\n",
       "      <td id=\"T_ca548_row0_col0\" class=\"data row0 col0\" >B</td>\n",
       "      <td id=\"T_ca548_row0_col1\" class=\"data row0 col1\" >87.87%</td>\n",
       "      <td id=\"T_ca548_row0_col2\" class=\"data row0 col2\" >0.0149%</td>\n",
       "      <td id=\"T_ca548_row0_col3\" class=\"data row0 col3\" >Below Threshold</td>\n",
       "    </tr>\n",
       "    <tr>\n",
       "      <td id=\"T_ca548_row1_col0\" class=\"data row1 col0\" >C</td>\n",
       "      <td id=\"T_ca548_row1_col1\" class=\"data row1 col1\" >10.42%</td>\n",
       "      <td id=\"T_ca548_row1_col2\" class=\"data row1 col2\" >0.3323%</td>\n",
       "      <td id=\"T_ca548_row1_col3\" class=\"data row1 col3\" >Below Threshold</td>\n",
       "    </tr>\n",
       "    <tr>\n",
       "      <td id=\"T_ca548_row2_col0\" class=\"data row2 col0\" >A</td>\n",
       "      <td id=\"T_ca548_row2_col1\" class=\"data row2 col1\" >1.70%</td>\n",
       "      <td id=\"T_ca548_row2_col2\" class=\"data row2 col2\" >0.5152%</td>\n",
       "      <td id=\"T_ca548_row2_col3\" class=\"data row2 col3\" >Below Threshold</td>\n",
       "    </tr>\n",
       "    <tr>\n",
       "      <td id=\"T_ca548_row3_col0\" class=\"data row3 col0\" >D</td>\n",
       "      <td id=\"T_ca548_row3_col1\" class=\"data row3 col1\" >0.01%</td>\n",
       "      <td id=\"T_ca548_row3_col2\" class=\"data row3 col2\" >0.8872%</td>\n",
       "      <td id=\"T_ca548_row3_col3\" class=\"data row3 col3\" >Below Threshold</td>\n",
       "    </tr>\n",
       "    <tr>\n",
       "      <td id=\"T_ca548_row4_col0\" class=\"data row4 col0\" >E</td>\n",
       "      <td id=\"T_ca548_row4_col1\" class=\"data row4 col1\" >0.00%</td>\n",
       "      <td id=\"T_ca548_row4_col2\" class=\"data row4 col2\" >1.0155%</td>\n",
       "      <td id=\"T_ca548_row4_col3\" class=\"data row4 col3\" >Above Threshold</td>\n",
       "    </tr>\n",
       "  </tbody>\n",
       "</table>\n"
      ]
     },
     "metadata": {},
     "output_type": "display_data"
    },
    {
     "name": "stdout",
     "output_type": "stream",
     "text": [
      "\n",
      "(A variant with risk 'Below Threshold' is generally considered a safe choice.)\n"
     ]
    }
   ],
   "execution_count": 19
  },
  {
   "metadata": {},
   "cell_type": "markdown",
   "source": [
    "## 7. Automated Conclusion Logic\n",
    "This final, automated cell translates our statistical results into a clear business recommendation. 🎯\n",
    "\n",
    "The logic is straightforward:\n",
    "1.  It takes our best variant (the one with the lowest **Expected Loss**).\n",
    "2.  It compares its risk level against a predefined **Risk Threshold** (`RISK_THRESHOLD`).\n",
    "\n",
    "Based on this comparison, the code will either give a \"go\" signal to implement the winning variant or recommend that the test is inconclusive because even the best option is too risky to deploy."
   ],
   "id": "84061d34cea7335d"
  },
  {
   "metadata": {
    "ExecuteTime": {
     "end_time": "2025-07-18T12:19:50.620260Z",
     "start_time": "2025-07-18T12:19:50.614109Z"
    }
   },
   "cell_type": "code",
   "source": [
    "# This final cell takes the sorted list of results and uses the single\n",
    "# best-performing variant to make a final recommendation with a clear\n",
    "# explanation for non-technical stakeholders.\n",
    "\n",
    "print(\"--- Automated Recommendation ---\")\n",
    "\n",
    "# We use a try-except block to provide a more specific error message.\n",
    "try:\n",
    "    # --- Decision Framework ---\n",
    "    print(f\"Decision Threshold (Max Acceptable Risk): {RISK_THRESHOLD:.4f}\\n\")\n",
    "\n",
    "    # The results from Cell 12 are already sorted by lowest risk (Expected Loss).\n",
    "    # We only need to evaluate the top candidate.\n",
    "    best_candidate = sorted_results[0]\n",
    "    best_variant_name = best_candidate['name']\n",
    "    lowest_risk = best_candidate['expected_loss']\n",
    "\n",
    "    # Compare the risk of the best variant against the threshold.\n",
    "    if lowest_risk < RISK_THRESHOLD:\n",
    "        # SUCCESS CASE: The best variant is below the risk threshold.\n",
    "        print(f\"✅ Recommendation: Implement Variant '{best_variant_name}'.\")\n",
    "        print(f\"   Justification: This variant has the lowest risk ({lowest_risk:.6f}), which is below the acceptable threshold.\\n\")\n",
    "\n",
    "        # Eexplanation for this outcome\n",
    "        print(\"--- Explanation for Stakeholders ---\")\n",
    "        print(f\"Our analysis shows we should implement Variant '{best_variant_name}'.\")\n",
    "        print(f\"\\nWe ran thousands of simulations, and Variant '{best_variant_name}' is the most likely winner. The 'risk' of choosing it is just {lowest_risk:.4%}, which represents the tiny potential downside if another variant were secretly better.\")\n",
    "        print(f\"\\nThis risk is far below our pre-defined safety limit of {RISK_THRESHOLD:.2%}. We have high confidence in this decision. 🚀\")\n",
    "\n",
    "    else:\n",
    "        # INCONCLUSIVE CASE: Even the best variant is too risky.\n",
    "        print(f\"⚠️ Recommendation: The test is inconclusive. Do not implement any new variant yet.\")\n",
    "        print(f\"   Justification: Even the best variant, '{best_variant_name}', has a risk ({lowest_risk:.6f}) that is higher than your threshold.\\n\")\n",
    "\n",
    "        # Explanation for this outcome\n",
    "        print(\"--- Explanation ---\")\n",
    "        print(\"The results are not clear enough to make a confident decision right now.\")\n",
    "        print(f\"\\nOur best option, Variant '{best_variant_name}', still has a potential downside ('risk') of {lowest_risk:.4%}. This is higher than the {RISK_THRESHOLD:.2%} risk limit we agreed on beforehand.\")\n",
    "        print(\"\\nBecause the risk is too high, the safest action is to not make a change. We should consider running the test for longer to collect more data, which will help give us a clearer winner.\")\n",
    "\n",
    "except NameError as e:\n",
    "    # This block runs ONLY if a required variable (like 'sorted_results' or 'RISK_THRESHOLD') was not found.\n",
    "    print(f\"\\n--- ERROR ---\")\n",
    "    print(f\"Could not generate a recommendation because a required variable is missing.\")\n",
    "    print(f\"Specific Error: {e}\")\n",
    "    print(\"\\nThis confirms that a variable from a previous cell was not created successfully.\")\n",
    "    print(\"Please check the output of previous cells to ensure they ran without issues.\")"
   ],
   "id": "62365a9c7c89e4db",
   "outputs": [
    {
     "name": "stdout",
     "output_type": "stream",
     "text": [
      "--- Automated Recommendation ---\n",
      "Decision Threshold (Max Acceptable Risk): 0.0100\n",
      "\n",
      "✅ Recommendation: Implement Variant 'B'.\n",
      "   Justification: This variant has the lowest risk (0.000149), which is below the acceptable threshold.\n",
      "\n",
      "--- Explanation for Stakeholders ---\n",
      "Our analysis shows we should implement Variant 'B'.\n",
      "\n",
      "We ran thousands of simulations, and Variant 'B' is the most likely winner. The 'risk' of choosing it is just 0.0149%, which represents the tiny potential downside if another variant were secretly better.\n",
      "\n",
      "This risk is far below our pre-defined safety limit of 1.00%. We have high confidence in this decision. 🚀\n"
     ]
    }
   ],
   "execution_count": 20
  },
  {
   "metadata": {},
   "cell_type": "markdown",
   "source": [
    "---\n",
    "### Hi! My name is Lucas Pereira, and I'm the creator of this notebook. It's great to have you here!\n",
    "\n",
    "With over a decade of experience, I specialize in crafting user-centered experiences, from traditional to conversational interfaces, transforming underutilized channels into strategic platforms for sales and relationship-building. My recent work involves delivering scalable, multilingual solutions for global brands, where I lead end-to-end initiatives with a focus on UX, conversational commerce, and data-driven design. I'm truly passionate about creating innovative solutions that enhance user engagement and drive tangible business results.\n",
    "\n",
    "I hold a Master's degree and an MBA in Data Science, and I have been leading efforts to unite artificial intelligence (Generative AI, Machine Learning, and more) with real-world problem-solving.\n",
    "\n",
    "You can find the original project on my GitHub and connect with me on LinkedIn.\n",
    "\n",
    "* **Original notebook:** [https://github.com/dsandux/AB-Test-Toolkit](https://github.com/dsandux/AB-Test-Toolkit)\n",
    "* **LinkedIn:** [https://www.linkedin.com/in/lucaspereira](https://www.linkedin.com/in/lucaspereira)"
   ],
   "id": "da0cb1f5e08b3717"
  }
 ],
 "metadata": {
  "kernelspec": {
   "display_name": "Python 3",
   "language": "python",
   "name": "python3"
  },
  "language_info": {
   "codemirror_mode": {
    "name": "ipython",
    "version": 2
   },
   "file_extension": ".py",
   "mimetype": "text/x-python",
   "name": "python",
   "nbconvert_exporter": "python",
   "pygments_lexer": "ipython2",
   "version": "2.7.6"
  }
 },
 "nbformat": 4,
 "nbformat_minor": 5
}
